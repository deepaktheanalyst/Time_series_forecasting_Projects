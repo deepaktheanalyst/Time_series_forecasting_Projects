{
 "cells": [
  {
   "cell_type": "markdown",
   "id": "e1ef893b",
   "metadata": {},
   "source": [
    "# Importing libraries"
   ]
  },
  {
   "cell_type": "code",
   "execution_count": 1,
   "id": "e31cfee4",
   "metadata": {},
   "outputs": [],
   "source": [
    "import pandas as pd\n",
    "import numpy as np\n",
    "import os, sys\n",
    "import matplotlib.pyplot as plt\n",
    "%matplotlib inline\n",
    "import seaborn as sns\n",
    "sns.set()\n",
    "import warnings\n",
    "warnings.filterwarnings('ignore')\n",
    "\n",
    "\n",
    "from numpy import log\n",
    "from pandas import Series\n",
    "from datetime import datetime"
   ]
  },
  {
   "cell_type": "code",
   "execution_count": 2,
   "id": "473eaddd",
   "metadata": {},
   "outputs": [
    {
     "data": {
      "text/html": [
       "<div>\n",
       "<style scoped>\n",
       "    .dataframe tbody tr th:only-of-type {\n",
       "        vertical-align: middle;\n",
       "    }\n",
       "\n",
       "    .dataframe tbody tr th {\n",
       "        vertical-align: top;\n",
       "    }\n",
       "\n",
       "    .dataframe thead th {\n",
       "        text-align: right;\n",
       "    }\n",
       "</style>\n",
       "<table border=\"1\" class=\"dataframe\">\n",
       "  <thead>\n",
       "    <tr style=\"text-align: right;\">\n",
       "      <th></th>\n",
       "      <th>Year</th>\n",
       "      <th>World</th>\n",
       "      <th>OECD</th>\n",
       "      <th>G7</th>\n",
       "      <th>BRICS</th>\n",
       "      <th>Europe</th>\n",
       "      <th>European Union</th>\n",
       "      <th>Belgium</th>\n",
       "      <th>Czechia</th>\n",
       "      <th>France</th>\n",
       "      <th>...</th>\n",
       "      <th>Africa</th>\n",
       "      <th>Algeria</th>\n",
       "      <th>Egypt</th>\n",
       "      <th>Nigeria</th>\n",
       "      <th>South Africa</th>\n",
       "      <th>Middle-East</th>\n",
       "      <th>Iran</th>\n",
       "      <th>Kuwait</th>\n",
       "      <th>Saudi Arabia</th>\n",
       "      <th>United Arab Emirates</th>\n",
       "    </tr>\n",
       "  </thead>\n",
       "  <tbody>\n",
       "    <tr>\n",
       "      <th>30</th>\n",
       "      <td>2020.0</td>\n",
       "      <td>13,966</td>\n",
       "      <td>4,976</td>\n",
       "      <td>3,504</td>\n",
       "      <td>5,561</td>\n",
       "      <td>1,704</td>\n",
       "      <td>1,311</td>\n",
       "      <td>51.0</td>\n",
       "      <td>40.0</td>\n",
       "      <td>218.0</td>\n",
       "      <td>...</td>\n",
       "      <td>816.0</td>\n",
       "      <td>60.0</td>\n",
       "      <td>88.0</td>\n",
       "      <td>159.0</td>\n",
       "      <td>132.0</td>\n",
       "      <td>798.0</td>\n",
       "      <td>264.0</td>\n",
       "      <td>39.0</td>\n",
       "      <td>230.0</td>\n",
       "      <td>83.0</td>\n",
       "    </tr>\n",
       "    <tr>\n",
       "      <th>31</th>\n",
       "      <td>2021.0</td>\n",
       "      <td>14,647</td>\n",
       "      <td>5,197</td>\n",
       "      <td>3,669</td>\n",
       "      <td>5,880</td>\n",
       "      <td>1,784</td>\n",
       "      <td>1,374</td>\n",
       "      <td>56.0</td>\n",
       "      <td>43.0</td>\n",
       "      <td>234.0</td>\n",
       "      <td>...</td>\n",
       "      <td>845.0</td>\n",
       "      <td>64.0</td>\n",
       "      <td>95.0</td>\n",
       "      <td>165.0</td>\n",
       "      <td>128.0</td>\n",
       "      <td>823.0</td>\n",
       "      <td>271.0</td>\n",
       "      <td>44.0</td>\n",
       "      <td>234.0</td>\n",
       "      <td>83.0</td>\n",
       "    </tr>\n",
       "    <tr>\n",
       "      <th>32</th>\n",
       "      <td>2022.0</td>\n",
       "      <td>14,951</td>\n",
       "      <td>5,180</td>\n",
       "      <td>3,663</td>\n",
       "      <td>6,059</td>\n",
       "      <td>1,713</td>\n",
       "      <td>1,313</td>\n",
       "      <td>51.0</td>\n",
       "      <td>43.0</td>\n",
       "      <td>212.0</td>\n",
       "      <td>...</td>\n",
       "      <td>869.0</td>\n",
       "      <td>66.0</td>\n",
       "      <td>96.0</td>\n",
       "      <td>167.0</td>\n",
       "      <td>122.0</td>\n",
       "      <td>852.0</td>\n",
       "      <td>276.0</td>\n",
       "      <td>48.0</td>\n",
       "      <td>254.0</td>\n",
       "      <td>87.0</td>\n",
       "    </tr>\n",
       "    <tr>\n",
       "      <th>33</th>\n",
       "      <td>NaN</td>\n",
       "      <td>NaN</td>\n",
       "      <td>NaN</td>\n",
       "      <td>NaN</td>\n",
       "      <td>NaN</td>\n",
       "      <td>NaN</td>\n",
       "      <td>NaN</td>\n",
       "      <td>NaN</td>\n",
       "      <td>NaN</td>\n",
       "      <td>NaN</td>\n",
       "      <td>...</td>\n",
       "      <td>NaN</td>\n",
       "      <td>NaN</td>\n",
       "      <td>NaN</td>\n",
       "      <td>NaN</td>\n",
       "      <td>NaN</td>\n",
       "      <td>NaN</td>\n",
       "      <td>NaN</td>\n",
       "      <td>NaN</td>\n",
       "      <td>NaN</td>\n",
       "      <td>NaN</td>\n",
       "    </tr>\n",
       "    <tr>\n",
       "      <th>34</th>\n",
       "      <td>NaN</td>\n",
       "      <td>NaN</td>\n",
       "      <td>NaN</td>\n",
       "      <td>NaN</td>\n",
       "      <td>NaN</td>\n",
       "      <td>NaN</td>\n",
       "      <td>NaN</td>\n",
       "      <td>NaN</td>\n",
       "      <td>NaN</td>\n",
       "      <td>NaN</td>\n",
       "      <td>...</td>\n",
       "      <td>NaN</td>\n",
       "      <td>NaN</td>\n",
       "      <td>NaN</td>\n",
       "      <td>NaN</td>\n",
       "      <td>NaN</td>\n",
       "      <td>NaN</td>\n",
       "      <td>NaN</td>\n",
       "      <td>NaN</td>\n",
       "      <td>NaN</td>\n",
       "      <td>NaN</td>\n",
       "    </tr>\n",
       "  </tbody>\n",
       "</table>\n",
       "<p>5 rows × 58 columns</p>\n",
       "</div>"
      ],
      "text/plain": [
       "      Year   World   OECD     G7  BRICS Europe European Union  Belgium  \\\n",
       "30  2020.0  13,966  4,976  3,504  5,561  1,704          1,311     51.0   \n",
       "31  2021.0  14,647  5,197  3,669  5,880  1,784          1,374     56.0   \n",
       "32  2022.0  14,951  5,180  3,663  6,059  1,713          1,313     51.0   \n",
       "33     NaN     NaN    NaN    NaN    NaN    NaN            NaN      NaN   \n",
       "34     NaN     NaN    NaN    NaN    NaN    NaN            NaN      NaN   \n",
       "\n",
       "    Czechia  France  ...  Africa  Algeria  Egypt  Nigeria  South Africa  \\\n",
       "30     40.0   218.0  ...   816.0     60.0   88.0    159.0         132.0   \n",
       "31     43.0   234.0  ...   845.0     64.0   95.0    165.0         128.0   \n",
       "32     43.0   212.0  ...   869.0     66.0   96.0    167.0         122.0   \n",
       "33      NaN     NaN  ...     NaN      NaN    NaN      NaN           NaN   \n",
       "34      NaN     NaN  ...     NaN      NaN    NaN      NaN           NaN   \n",
       "\n",
       "    Middle-East   Iran  Kuwait  Saudi Arabia  United Arab Emirates  \n",
       "30        798.0  264.0    39.0         230.0                  83.0  \n",
       "31        823.0  271.0    44.0         234.0                  83.0  \n",
       "32        852.0  276.0    48.0         254.0                  87.0  \n",
       "33          NaN    NaN     NaN           NaN                   NaN  \n",
       "34          NaN    NaN     NaN           NaN                   NaN  \n",
       "\n",
       "[5 rows x 58 columns]"
      ]
     },
     "execution_count": 2,
     "metadata": {},
     "output_type": "execute_result"
    }
   ],
   "source": [
    "df = pd.read_csv(r\"C:\\Users\\deepa\\Downloads\\total_energy_consumption.csv\")\n",
    "df.tail()"
   ]
  },
  {
   "cell_type": "code",
   "execution_count": 3,
   "id": "77bcf451",
   "metadata": {},
   "outputs": [],
   "source": [
    "# Extracting world data from all data\n",
    "df_world = df[['Year','World']]"
   ]
  },
  {
   "cell_type": "code",
   "execution_count": 4,
   "id": "bbdd7f52",
   "metadata": {},
   "outputs": [],
   "source": [
    "# Removing null values\n",
    "df_world = df_world.dropna(how='any')"
   ]
  },
  {
   "cell_type": "code",
   "execution_count": 5,
   "id": "cc5f0abf",
   "metadata": {},
   "outputs": [
    {
     "data": {
      "text/plain": [
       "Year     0\n",
       "World    0\n",
       "dtype: int64"
      ]
     },
     "execution_count": 5,
     "metadata": {},
     "output_type": "execute_result"
    }
   ],
   "source": [
    "#Checking Null Values\n",
    "df_world.isnull().sum()"
   ]
  },
  {
   "cell_type": "code",
   "execution_count": 6,
   "id": "4fc9cf0a",
   "metadata": {},
   "outputs": [
    {
     "name": "stdout",
     "output_type": "stream",
     "text": [
      "<class 'pandas.core.frame.DataFrame'>\n",
      "Int64Index: 33 entries, 0 to 32\n",
      "Data columns (total 2 columns):\n",
      " #   Column  Non-Null Count  Dtype  \n",
      "---  ------  --------------  -----  \n",
      " 0   Year    33 non-null     float64\n",
      " 1   World   33 non-null     object \n",
      "dtypes: float64(1), object(1)\n",
      "memory usage: 792.0+ bytes\n"
     ]
    }
   ],
   "source": [
    "df_world.info()"
   ]
  },
  {
   "cell_type": "code",
   "execution_count": 7,
   "id": "84b218c4",
   "metadata": {},
   "outputs": [],
   "source": [
    "#Changing data type of year column into datetime \n",
    "df_world['Year'] = pd.to_datetime(df['Year'], format='%Y')"
   ]
  },
  {
   "cell_type": "code",
   "execution_count": 8,
   "id": "e329fead",
   "metadata": {},
   "outputs": [
    {
     "data": {
      "text/html": [
       "<div>\n",
       "<style scoped>\n",
       "    .dataframe tbody tr th:only-of-type {\n",
       "        vertical-align: middle;\n",
       "    }\n",
       "\n",
       "    .dataframe tbody tr th {\n",
       "        vertical-align: top;\n",
       "    }\n",
       "\n",
       "    .dataframe thead th {\n",
       "        text-align: right;\n",
       "    }\n",
       "</style>\n",
       "<table border=\"1\" class=\"dataframe\">\n",
       "  <thead>\n",
       "    <tr style=\"text-align: right;\">\n",
       "      <th></th>\n",
       "      <th>Year</th>\n",
       "      <th>World</th>\n",
       "    </tr>\n",
       "  </thead>\n",
       "  <tbody>\n",
       "    <tr>\n",
       "      <th>0</th>\n",
       "      <td>1990-01-01</td>\n",
       "      <td>8,734</td>\n",
       "    </tr>\n",
       "    <tr>\n",
       "      <th>1</th>\n",
       "      <td>1991-01-01</td>\n",
       "      <td>8,788</td>\n",
       "    </tr>\n",
       "    <tr>\n",
       "      <th>2</th>\n",
       "      <td>1992-01-01</td>\n",
       "      <td>8,796</td>\n",
       "    </tr>\n",
       "    <tr>\n",
       "      <th>3</th>\n",
       "      <td>1993-01-01</td>\n",
       "      <td>8,884</td>\n",
       "    </tr>\n",
       "    <tr>\n",
       "      <th>4</th>\n",
       "      <td>1994-01-01</td>\n",
       "      <td>8,957</td>\n",
       "    </tr>\n",
       "  </tbody>\n",
       "</table>\n",
       "</div>"
      ],
      "text/plain": [
       "        Year  World\n",
       "0 1990-01-01  8,734\n",
       "1 1991-01-01  8,788\n",
       "2 1992-01-01  8,796\n",
       "3 1993-01-01  8,884\n",
       "4 1994-01-01  8,957"
      ]
     },
     "execution_count": 8,
     "metadata": {},
     "output_type": "execute_result"
    }
   ],
   "source": [
    "df_world.head()"
   ]
  },
  {
   "cell_type": "code",
   "execution_count": 9,
   "id": "344069a2",
   "metadata": {},
   "outputs": [],
   "source": [
    "df_world['World'] = df_world['World'].str.replace(',', '')\n",
    "df_world['World'] = pd.to_numeric(df_world['World']).astype(int)"
   ]
  },
  {
   "cell_type": "code",
   "execution_count": 10,
   "id": "5aedc1b9",
   "metadata": {},
   "outputs": [
    {
     "data": {
      "text/html": [
       "<div>\n",
       "<style scoped>\n",
       "    .dataframe tbody tr th:only-of-type {\n",
       "        vertical-align: middle;\n",
       "    }\n",
       "\n",
       "    .dataframe tbody tr th {\n",
       "        vertical-align: top;\n",
       "    }\n",
       "\n",
       "    .dataframe thead th {\n",
       "        text-align: right;\n",
       "    }\n",
       "</style>\n",
       "<table border=\"1\" class=\"dataframe\">\n",
       "  <thead>\n",
       "    <tr style=\"text-align: right;\">\n",
       "      <th></th>\n",
       "      <th>Year</th>\n",
       "      <th>World</th>\n",
       "    </tr>\n",
       "  </thead>\n",
       "  <tbody>\n",
       "    <tr>\n",
       "      <th>0</th>\n",
       "      <td>1990-01-01</td>\n",
       "      <td>8734</td>\n",
       "    </tr>\n",
       "    <tr>\n",
       "      <th>1</th>\n",
       "      <td>1991-01-01</td>\n",
       "      <td>8788</td>\n",
       "    </tr>\n",
       "    <tr>\n",
       "      <th>2</th>\n",
       "      <td>1992-01-01</td>\n",
       "      <td>8796</td>\n",
       "    </tr>\n",
       "    <tr>\n",
       "      <th>3</th>\n",
       "      <td>1993-01-01</td>\n",
       "      <td>8884</td>\n",
       "    </tr>\n",
       "    <tr>\n",
       "      <th>4</th>\n",
       "      <td>1994-01-01</td>\n",
       "      <td>8957</td>\n",
       "    </tr>\n",
       "  </tbody>\n",
       "</table>\n",
       "</div>"
      ],
      "text/plain": [
       "        Year  World\n",
       "0 1990-01-01   8734\n",
       "1 1991-01-01   8788\n",
       "2 1992-01-01   8796\n",
       "3 1993-01-01   8884\n",
       "4 1994-01-01   8957"
      ]
     },
     "execution_count": 10,
     "metadata": {},
     "output_type": "execute_result"
    }
   ],
   "source": [
    "df_world.head()"
   ]
  },
  {
   "cell_type": "code",
   "execution_count": 11,
   "id": "c051a3cf",
   "metadata": {},
   "outputs": [],
   "source": [
    "# setting index for year column\n",
    "df_world.set_index('Year',inplace=True)"
   ]
  },
  {
   "cell_type": "code",
   "execution_count": 12,
   "id": "c524563c",
   "metadata": {},
   "outputs": [
    {
     "data": {
      "text/html": [
       "<div>\n",
       "<style scoped>\n",
       "    .dataframe tbody tr th:only-of-type {\n",
       "        vertical-align: middle;\n",
       "    }\n",
       "\n",
       "    .dataframe tbody tr th {\n",
       "        vertical-align: top;\n",
       "    }\n",
       "\n",
       "    .dataframe thead th {\n",
       "        text-align: right;\n",
       "    }\n",
       "</style>\n",
       "<table border=\"1\" class=\"dataframe\">\n",
       "  <thead>\n",
       "    <tr style=\"text-align: right;\">\n",
       "      <th></th>\n",
       "      <th>World</th>\n",
       "    </tr>\n",
       "    <tr>\n",
       "      <th>Year</th>\n",
       "      <th></th>\n",
       "    </tr>\n",
       "  </thead>\n",
       "  <tbody>\n",
       "    <tr>\n",
       "      <th>1990-01-01</th>\n",
       "      <td>8734</td>\n",
       "    </tr>\n",
       "    <tr>\n",
       "      <th>1991-01-01</th>\n",
       "      <td>8788</td>\n",
       "    </tr>\n",
       "    <tr>\n",
       "      <th>1992-01-01</th>\n",
       "      <td>8796</td>\n",
       "    </tr>\n",
       "    <tr>\n",
       "      <th>1993-01-01</th>\n",
       "      <td>8884</td>\n",
       "    </tr>\n",
       "    <tr>\n",
       "      <th>1994-01-01</th>\n",
       "      <td>8957</td>\n",
       "    </tr>\n",
       "  </tbody>\n",
       "</table>\n",
       "</div>"
      ],
      "text/plain": [
       "            World\n",
       "Year             \n",
       "1990-01-01   8734\n",
       "1991-01-01   8788\n",
       "1992-01-01   8796\n",
       "1993-01-01   8884\n",
       "1994-01-01   8957"
      ]
     },
     "execution_count": 12,
     "metadata": {},
     "output_type": "execute_result"
    }
   ],
   "source": [
    "df_world.head()"
   ]
  },
  {
   "cell_type": "code",
   "execution_count": 13,
   "id": "cb1108e1",
   "metadata": {},
   "outputs": [
    {
     "data": {
      "text/plain": [
       "<function matplotlib.pyplot.show(close=None, block=None)>"
      ]
     },
     "execution_count": 13,
     "metadata": {},
     "output_type": "execute_result"
    },
    {
     "data": {
      "image/png": "[encoded data removed]",
      "text/plain": [
       "<Figure size 640x480 with 1 Axes>"
      ]
     },
     "metadata": {},
     "output_type": "display_data"
    }
   ],
   "source": [
    "#plotting the data to check trend and seasonality\n",
    "df_world.plot()\n",
    "plt.show"
   ]
  },
  {
   "cell_type": "markdown",
   "id": "12d696be",
   "metadata": {},
   "source": [
    "### As we can out data have upward trend and no seasonality"
   ]
  },
  {
   "cell_type": "markdown",
   "id": "f7ca6a9f",
   "metadata": {},
   "source": [
    "## Decomposition to check dataset pattern/component"
   ]
  },
  {
   "cell_type": "code",
   "execution_count": 14,
   "id": "9522668c",
   "metadata": {},
   "outputs": [],
   "source": [
    "# importing libraries for decomposition\n",
    "from statsmodels.tsa.seasonal import seasonal_decompose"
   ]
  },
  {
   "cell_type": "code",
   "execution_count": 15,
   "id": "bd57c7ab",
   "metadata": {},
   "outputs": [
    {
     "data": {
      "image/png": "[encoded data removed]",
      "text/plain": [
       "<Figure size 640x480 with 4 Axes>"
      ]
     },
     "metadata": {},
     "output_type": "display_data"
    }
   ],
   "source": [
    "decomposition = seasonal_decompose(df_world['World'],model='additive',period=12) \n",
    "decomposition.plot() \n",
    "plt.show()"
   ]
  },
  {
   "cell_type": "code",
   "execution_count": 16,
   "id": "abe9aca8",
   "metadata": {},
   "outputs": [
    {
     "data": {
      "text/plain": [
       "0.009161260232201481"
      ]
     },
     "execution_count": 16,
     "metadata": {},
     "output_type": "execute_result"
    }
   ],
   "source": [
    "# Check wheather autocorrealtion there in the dataset or not\n",
    "import statsmodels.api as sm\n",
    "sm.stats.durbin_watson(df_world['World'])"
   ]
  },
  {
   "cell_type": "code",
   "execution_count": 17,
   "id": "175de4bb",
   "metadata": {},
   "outputs": [],
   "source": [
    "# Importing augemnted decayfuller test \n",
    "from statsmodels.tsa.stattools import adfuller"
   ]
  },
  {
   "cell_type": "code",
   "execution_count": 18,
   "id": "c5e62f97",
   "metadata": {},
   "outputs": [
    {
     "data": {
      "text/plain": [
       "(0.027458086022509532,\n",
       " 0.9607447949951587,\n",
       " 2,\n",
       " 30,\n",
       " {'1%': -3.6699197407407405,\n",
       "  '5%': -2.9640707407407407,\n",
       "  '10%': -2.621171111111111},\n",
       " 306.7511391760175)"
      ]
     },
     "execution_count": 18,
     "metadata": {},
     "output_type": "execute_result"
    }
   ],
   "source": [
    "adfuller(df_world['World'])"
   ]
  },
  {
   "cell_type": "code",
   "execution_count": 19,
   "id": "4b8a8ce8",
   "metadata": {},
   "outputs": [],
   "source": [
    "# Function for checking the stability of trend and seasonality using augmented decay fuller test\n",
    "def adf_check(timeseries):\n",
    "    result = adfuller(timeseries)\n",
    "    print(\"************* Augmented Decay Fuller Test ****************\")\n",
    "    labels = ['ADF Stats Test','p-value','no. of lags','no. of observations']\n",
    "    \n",
    "    for a,b in zip(result, labels):\n",
    "        print(b + \" : \" + str(a))\n",
    "        \n",
    "    if result[1] <= 0.05:\n",
    "        print(\"Strong evidence against null hypothesis and my time series is stationary\")\n",
    "    else:\n",
    "        print('Weak evidence against null hypothesis and my time series is Non stationary')\n",
    "    "
   ]
  },
  {
   "cell_type": "code",
   "execution_count": 20,
   "id": "97c5b7b9",
   "metadata": {},
   "outputs": [
    {
     "name": "stdout",
     "output_type": "stream",
     "text": [
      "************* Augmented Decay Fuller Test ****************\n",
      "ADF Stats Test : 0.027458086022509532\n",
      "p-value : 0.9607447949951587\n",
      "no. of lags : 2\n",
      "no. of observations : 30\n",
      "Weak evidence against null hypothesis and my time series is Non stationary\n"
     ]
    }
   ],
   "source": [
    "adf_check(df_world['World'])"
   ]
  },
  {
   "cell_type": "code",
   "execution_count": 21,
   "id": "5f40581b",
   "metadata": {},
   "outputs": [],
   "source": [
    "df_world['1st diff'] = df_world['World'] - df_world['World'].shift(1)"
   ]
  },
  {
   "cell_type": "code",
   "execution_count": 22,
   "id": "0bf3026c",
   "metadata": {},
   "outputs": [
    {
     "data": {
      "text/html": [
       "<div>\n",
       "<style scoped>\n",
       "    .dataframe tbody tr th:only-of-type {\n",
       "        vertical-align: middle;\n",
       "    }\n",
       "\n",
       "    .dataframe tbody tr th {\n",
       "        vertical-align: top;\n",
       "    }\n",
       "\n",
       "    .dataframe thead th {\n",
       "        text-align: right;\n",
       "    }\n",
       "</style>\n",
       "<table border=\"1\" class=\"dataframe\">\n",
       "  <thead>\n",
       "    <tr style=\"text-align: right;\">\n",
       "      <th></th>\n",
       "      <th>World</th>\n",
       "      <th>1st diff</th>\n",
       "    </tr>\n",
       "    <tr>\n",
       "      <th>Year</th>\n",
       "      <th></th>\n",
       "      <th></th>\n",
       "    </tr>\n",
       "  </thead>\n",
       "  <tbody>\n",
       "    <tr>\n",
       "      <th>1990-01-01</th>\n",
       "      <td>8734</td>\n",
       "      <td>NaN</td>\n",
       "    </tr>\n",
       "    <tr>\n",
       "      <th>1991-01-01</th>\n",
       "      <td>8788</td>\n",
       "      <td>54.0</td>\n",
       "    </tr>\n",
       "    <tr>\n",
       "      <th>1992-01-01</th>\n",
       "      <td>8796</td>\n",
       "      <td>8.0</td>\n",
       "    </tr>\n",
       "    <tr>\n",
       "      <th>1993-01-01</th>\n",
       "      <td>8884</td>\n",
       "      <td>88.0</td>\n",
       "    </tr>\n",
       "    <tr>\n",
       "      <th>1994-01-01</th>\n",
       "      <td>8957</td>\n",
       "      <td>73.0</td>\n",
       "    </tr>\n",
       "  </tbody>\n",
       "</table>\n",
       "</div>"
      ],
      "text/plain": [
       "            World  1st diff\n",
       "Year                       \n",
       "1990-01-01   8734       NaN\n",
       "1991-01-01   8788      54.0\n",
       "1992-01-01   8796       8.0\n",
       "1993-01-01   8884      88.0\n",
       "1994-01-01   8957      73.0"
      ]
     },
     "execution_count": 22,
     "metadata": {},
     "output_type": "execute_result"
    }
   ],
   "source": [
    "df_world.head()"
   ]
  },
  {
   "cell_type": "code",
   "execution_count": 23,
   "id": "151cd8f6",
   "metadata": {},
   "outputs": [
    {
     "name": "stdout",
     "output_type": "stream",
     "text": [
      "************* Augmented Decay Fuller Test ****************\n",
      "ADF Stats Test : -1.5272973532281544\n",
      "p-value : 0.5199671205717319\n",
      "no. of lags : 10\n",
      "no. of observations : 21\n",
      "Weak evidence against null hypothesis and my time series is Non stationary\n"
     ]
    }
   ],
   "source": [
    "adf_check(df_world['1st diff'].dropna())"
   ]
  },
  {
   "cell_type": "code",
   "execution_count": 24,
   "id": "b98d300a",
   "metadata": {},
   "outputs": [],
   "source": [
    "df_world['2nd diff'] = df_world['1st diff'] - df_world['1st diff'].shift(1)"
   ]
  },
  {
   "cell_type": "code",
   "execution_count": 25,
   "id": "4d4378df",
   "metadata": {},
   "outputs": [
    {
     "name": "stdout",
     "output_type": "stream",
     "text": [
      "************* Augmented Decay Fuller Test ****************\n",
      "ADF Stats Test : -1.750380428707818\n",
      "p-value : 0.40535952948370707\n",
      "no. of lags : 9\n",
      "no. of observations : 21\n",
      "Weak evidence against null hypothesis and my time series is Non stationary\n"
     ]
    }
   ],
   "source": [
    "adf_check(df_world['2nd diff'].dropna())"
   ]
  },
  {
   "cell_type": "code",
   "execution_count": 26,
   "id": "7a517f9e",
   "metadata": {},
   "outputs": [],
   "source": [
    "df_world['3rd diff'] = df_world['2nd diff'] - df_world['2nd diff'].shift(1)"
   ]
  },
  {
   "cell_type": "code",
   "execution_count": 27,
   "id": "49aa6e42",
   "metadata": {},
   "outputs": [
    {
     "name": "stdout",
     "output_type": "stream",
     "text": [
      "************* Augmented Decay Fuller Test ****************\n",
      "ADF Stats Test : -1.9556561114908435\n",
      "p-value : 0.3063481875971387\n",
      "no. of lags : 9\n",
      "no. of observations : 20\n",
      "Weak evidence against null hypothesis and my time series is Non stationary\n"
     ]
    }
   ],
   "source": [
    "adf_check(df_world['3rd diff'].dropna())"
   ]
  },
  {
   "cell_type": "code",
   "execution_count": 28,
   "id": "8c4cce95",
   "metadata": {},
   "outputs": [],
   "source": [
    "df_world['4th diff'] = df_world['3rd diff'] - df_world['3rd diff'].shift(1)"
   ]
  },
  {
   "cell_type": "code",
   "execution_count": 29,
   "id": "c0cad905",
   "metadata": {},
   "outputs": [
    {
     "name": "stdout",
     "output_type": "stream",
     "text": [
      "************* Augmented Decay Fuller Test ****************\n",
      "ADF Stats Test : -7.900724096749404\n",
      "p-value : 4.19227573805087e-12\n",
      "no. of lags : 7\n",
      "no. of observations : 21\n",
      "Strong evidence against null hypothesis and my time series is stationary\n"
     ]
    }
   ],
   "source": [
    "adf_check(df_world['4th diff'].dropna())"
   ]
  },
  {
   "cell_type": "code",
   "execution_count": 30,
   "id": "fa07abee",
   "metadata": {},
   "outputs": [],
   "source": [
    "from statsmodels.graphics.tsaplots import plot_acf,plot_pacf"
   ]
  },
  {
   "cell_type": "code",
   "execution_count": 31,
   "id": "fa67b786",
   "metadata": {},
   "outputs": [],
   "source": [
    "# Trend\n",
    "# d = 4\n",
    "# p = 2 -- pacf\n",
    "# q = 1 -- acf"
   ]
  },
  {
   "cell_type": "code",
   "execution_count": 32,
   "id": "b8697d40",
   "metadata": {},
   "outputs": [
    {
     "data": {
      "image/png": "[encoded data removed]",
      "text/plain": [
       "<Figure size 640x480 with 1 Axes>"
      ]
     },
     "metadata": {},
     "output_type": "display_data"
    }
   ],
   "source": [
    "# plot to check p value \n",
    "plot_pacf(df_world['4th diff'].dropna(),lags=12)\n",
    "plt.show()"
   ]
  },
  {
   "cell_type": "code",
   "execution_count": 33,
   "id": "607e2798",
   "metadata": {},
   "outputs": [
    {
     "data": {
      "image/png": "[encoded data removed]",
      "text/plain": [
       "<Figure size 640x480 with 1 Axes>"
      ]
     },
     "metadata": {},
     "output_type": "display_data"
    }
   ],
   "source": [
    "# plot to check q value\n",
    "plot_acf(df_world['4th diff'].dropna(),lags=14)\n",
    "plt.show()"
   ]
  },
  {
   "cell_type": "code",
   "execution_count": 34,
   "id": "46d06e9d",
   "metadata": {},
   "outputs": [],
   "source": [
    "# importing AutoReg model for prediction\n",
    "from statsmodels.tsa.arima_model import ARIMA\n",
    "import statsmodels.api as sm\n",
    "from statsmodels.tsa.ar_model import AutoReg"
   ]
  },
  {
   "cell_type": "code",
   "execution_count": 35,
   "id": "0231757d",
   "metadata": {},
   "outputs": [
    {
     "name": "stderr",
     "output_type": "stream",
     "text": [
      "C:\\Users\\deepa\\myenv\\lib\\site-packages\\statsmodels\\tsa\\base\\tsa_model.py:471: ValueWarning: No frequency information was provided, so inferred frequency AS-JAN will be used.\n",
      "  self._init_dates(dates, freq)\n"
     ]
    }
   ],
   "source": [
    "# Appyling AutoReg model to predict\n",
    "model = AutoReg(df_world['World'],lags=15,trend='t',period=12)"
   ]
  },
  {
   "cell_type": "code",
   "execution_count": 36,
   "id": "a689f314",
   "metadata": {},
   "outputs": [],
   "source": [
    "result = model.fit()"
   ]
  },
  {
   "cell_type": "code",
   "execution_count": 37,
   "id": "9c04939f",
   "metadata": {},
   "outputs": [
    {
     "name": "stdout",
     "output_type": "stream",
     "text": [
      "                            AutoReg Model Results                             \n",
      "==============================================================================\n",
      "Dep. Variable:                  World   No. Observations:                   33\n",
      "Model:                    AutoReg(15)   Log Likelihood                 -85.374\n",
      "Method:               Conditional MLE   S.D. of innovations             27.773\n",
      "Date:                Mon, 17 Jul 2023   AIC                            204.749\n",
      "Time:                        01:22:56   BIC                            219.885\n",
      "Sample:                    01-01-2005   HQIC                           206.836\n",
      "                         - 01-01-2022                                         \n",
      "==============================================================================\n",
      "                 coef    std err          z      P>|z|      [0.025      0.975]\n",
      "------------------------------------------------------------------------------\n",
      "trend       -218.7426     16.834    -12.994      0.000    -251.737    -185.748\n",
      "World.L1      -0.7975      0.127     -6.264      0.000      -1.047      -0.548\n",
      "World.L2       0.4080      0.085      4.800      0.000       0.241       0.575\n",
      "World.L3       0.7820      0.113      6.910      0.000       0.560       1.004\n",
      "World.L4      -0.1105      0.073     -1.511      0.131      -0.254       0.033\n",
      "World.L5      -0.2927      0.080     -3.657      0.000      -0.450      -0.136\n",
      "World.L6       0.6212      0.063      9.882      0.000       0.498       0.744\n",
      "World.L7       0.9822      0.100      9.818      0.000       0.786       1.178\n",
      "World.L8       0.2698      0.107      2.526      0.012       0.060       0.479\n",
      "World.L9      -0.5182      0.078     -6.631      0.000      -0.671      -0.365\n",
      "World.L10     -0.9676      0.072    -13.462      0.000      -1.108      -0.827\n",
      "World.L11      0.6070      0.110      5.527      0.000       0.392       0.822\n",
      "World.L12      1.3449      0.178      7.546      0.000       0.996       1.694\n",
      "World.L13     -1.0255      0.222     -4.620      0.000      -1.461      -0.590\n",
      "World.L14     -0.5808      0.335     -1.733      0.083      -1.238       0.076\n",
      "World.L15      0.9140      0.190      4.804      0.000       0.541       1.287\n",
      "                                    Roots                                     \n",
      "==============================================================================\n",
      "                   Real          Imaginary           Modulus         Frequency\n",
      "------------------------------------------------------------------------------\n",
      "AR.1            -0.5360           -0.6913j            0.8747           -0.3550\n",
      "AR.2            -0.5360           +0.6913j            0.8747            0.3550\n",
      "AR.3            -1.0021           -0.1719j            1.0168           -0.4730\n",
      "AR.4            -1.0021           +0.1719j            1.0168            0.4730\n",
      "AR.5            -0.8311           -0.4372j            0.9391           -0.4229\n",
      "AR.6            -0.8311           +0.4372j            0.9391            0.4229\n",
      "AR.7            -0.1717           -0.9257j            0.9415           -0.2792\n",
      "AR.8            -0.1717           +0.9257j            0.9415            0.2792\n",
      "AR.9             0.5009           -0.8650j            0.9995           -0.1665\n",
      "AR.10            0.5009           +0.8650j            0.9995            0.1665\n",
      "AR.11            0.7827           -0.8678j            1.1686           -0.1332\n",
      "AR.12            0.7827           +0.8678j            1.1686            0.1332\n",
      "AR.13            0.9427           -0.0000j            0.9427           -0.0000\n",
      "AR.14            1.1037           -0.3966j            1.1728           -0.0549\n",
      "AR.15            1.1037           +0.3966j            1.1728            0.0549\n",
      "------------------------------------------------------------------------------\n"
     ]
    }
   ],
   "source": [
    "print(result.summary())"
   ]
  },
  {
   "cell_type": "code",
   "execution_count": 39,
   "id": "484552b5",
   "metadata": {},
   "outputs": [
    {
     "data": {
      "image/png": "[encoded data removed]",
      "text/plain": [
       "<Figure size 640x480 with 1 Axes>"
      ]
     },
     "metadata": {},
     "output_type": "display_data"
    }
   ],
   "source": [
    "#Checking model performance on given data \n",
    "df_world['forecast'] = result.predict(start=25,end = 33,dynamic=True)\n",
    "df_world[['World','forecast']].plot()\n",
    "plt.show()"
   ]
  },
  {
   "cell_type": "code",
   "execution_count": 40,
   "id": "613c0856",
   "metadata": {},
   "outputs": [
    {
     "name": "stdout",
     "output_type": "stream",
     "text": [
      "MAE: 14.416246374568345\n",
      "RMSE: 18.00286350685261\n"
     ]
    }
   ],
   "source": [
    "#Checking model performance using metrics\n",
    "from sklearn.metrics import mean_absolute_error, mean_squared_error\n",
    "\n",
    "# Assuming df_world contains your DataFrame with the 'World' and 'forecast' columns\n",
    "y_true = df_world['World'].values[25:33]\n",
    "y_pred = df_world['forecast'].values[25:33]\n",
    "\n",
    "# Mean Absolute Error (MAE)\n",
    "mae = mean_absolute_error(y_true, y_pred)\n",
    "print(\"MAE:\", mae)\n",
    "\n",
    "# Root Mean Squared Error (RMSE)\n",
    "rmse = np.sqrt(mean_squared_error(y_true, y_pred))\n",
    "print(\"RMSE:\", rmse)"
   ]
  },
  {
   "cell_type": "code",
   "execution_count": 41,
   "id": "efff0eb7",
   "metadata": {},
   "outputs": [
    {
     "data": {
      "text/html": [
       "<div>\n",
       "<style scoped>\n",
       "    .dataframe tbody tr th:only-of-type {\n",
       "        vertical-align: middle;\n",
       "    }\n",
       "\n",
       "    .dataframe tbody tr th {\n",
       "        vertical-align: top;\n",
       "    }\n",
       "\n",
       "    .dataframe thead th {\n",
       "        text-align: right;\n",
       "    }\n",
       "</style>\n",
       "<table border=\"1\" class=\"dataframe\">\n",
       "  <thead>\n",
       "    <tr style=\"text-align: right;\">\n",
       "      <th></th>\n",
       "      <th>World</th>\n",
       "      <th>1st diff</th>\n",
       "      <th>2nd diff</th>\n",
       "      <th>3rd diff</th>\n",
       "      <th>4th diff</th>\n",
       "      <th>forecast</th>\n",
       "    </tr>\n",
       "    <tr>\n",
       "      <th>Year</th>\n",
       "      <th></th>\n",
       "      <th></th>\n",
       "      <th></th>\n",
       "      <th></th>\n",
       "      <th></th>\n",
       "      <th></th>\n",
       "    </tr>\n",
       "  </thead>\n",
       "  <tbody>\n",
       "    <tr>\n",
       "      <th>2018-01-01</th>\n",
       "      <td>14353</td>\n",
       "      <td>353.0</td>\n",
       "      <td>54.0</td>\n",
       "      <td>-122.0</td>\n",
       "      <td>-194.0</td>\n",
       "      <td>14362.147040</td>\n",
       "    </tr>\n",
       "    <tr>\n",
       "      <th>2019-01-01</th>\n",
       "      <td>14523</td>\n",
       "      <td>170.0</td>\n",
       "      <td>-183.0</td>\n",
       "      <td>-237.0</td>\n",
       "      <td>-115.0</td>\n",
       "      <td>14524.329928</td>\n",
       "    </tr>\n",
       "    <tr>\n",
       "      <th>2020-01-01</th>\n",
       "      <td>13966</td>\n",
       "      <td>-557.0</td>\n",
       "      <td>-727.0</td>\n",
       "      <td>-544.0</td>\n",
       "      <td>-307.0</td>\n",
       "      <td>13962.338640</td>\n",
       "    </tr>\n",
       "    <tr>\n",
       "      <th>2021-01-01</th>\n",
       "      <td>14647</td>\n",
       "      <td>681.0</td>\n",
       "      <td>1238.0</td>\n",
       "      <td>1965.0</td>\n",
       "      <td>2509.0</td>\n",
       "      <td>14661.183247</td>\n",
       "    </tr>\n",
       "    <tr>\n",
       "      <th>2022-01-01</th>\n",
       "      <td>14951</td>\n",
       "      <td>304.0</td>\n",
       "      <td>-377.0</td>\n",
       "      <td>-1615.0</td>\n",
       "      <td>-3580.0</td>\n",
       "      <td>14938.592806</td>\n",
       "    </tr>\n",
       "  </tbody>\n",
       "</table>\n",
       "</div>"
      ],
      "text/plain": [
       "            World  1st diff  2nd diff  3rd diff  4th diff      forecast\n",
       "Year                                                                   \n",
       "2018-01-01  14353     353.0      54.0    -122.0    -194.0  14362.147040\n",
       "2019-01-01  14523     170.0    -183.0    -237.0    -115.0  14524.329928\n",
       "2020-01-01  13966    -557.0    -727.0    -544.0    -307.0  13962.338640\n",
       "2021-01-01  14647     681.0    1238.0    1965.0    2509.0  14661.183247\n",
       "2022-01-01  14951     304.0    -377.0   -1615.0   -3580.0  14938.592806"
      ]
     },
     "execution_count": 41,
     "metadata": {},
     "output_type": "execute_result"
    }
   ],
   "source": [
    "df_world.tail()"
   ]
  },
  {
   "cell_type": "code",
   "execution_count": 42,
   "id": "486a8d15",
   "metadata": {},
   "outputs": [],
   "source": [
    "from pandas.tseries.offsets import DateOffset"
   ]
  },
  {
   "cell_type": "code",
   "execution_count": 43,
   "id": "bdfe6069",
   "metadata": {},
   "outputs": [],
   "source": [
    "#Creating future dates \n",
    "future_dates = [df_world.index[-1] + DateOffset(years=x) for x in range(10)]"
   ]
  },
  {
   "cell_type": "code",
   "execution_count": 44,
   "id": "c67abd00",
   "metadata": {},
   "outputs": [],
   "source": [
    "future_dates_df = pd.DataFrame(index=future_dates[1:],columns = df_world.columns)"
   ]
  },
  {
   "cell_type": "code",
   "execution_count": 45,
   "id": "9ac572be",
   "metadata": {},
   "outputs": [],
   "source": [
    "# concatnate the both table(original table and forecast table)\n",
    "future_df = pd.concat([df_world,future_dates_df])"
   ]
  },
  {
   "cell_type": "code",
   "execution_count": 46,
   "id": "815b6ee9",
   "metadata": {},
   "outputs": [
    {
     "data": {
      "image/png": "[encoded data removed]",
      "text/plain": [
       "<Figure size 640x480 with 1 Axes>"
      ]
     },
     "metadata": {},
     "output_type": "display_data"
    }
   ],
   "source": [
    "#Plotting prediction for next 9 years\n",
    "future_df['forecast'] = result.predict(start=32,end = 44)\n",
    "future_df[['World','forecast']].plot()\n",
    "plt.show()"
   ]
  },
  {
   "cell_type": "code",
   "execution_count": 47,
   "id": "9e6c9332",
   "metadata": {},
   "outputs": [
    {
     "data": {
      "text/html": [
       "<div>\n",
       "<style scoped>\n",
       "    .dataframe tbody tr th:only-of-type {\n",
       "        vertical-align: middle;\n",
       "    }\n",
       "\n",
       "    .dataframe tbody tr th {\n",
       "        vertical-align: top;\n",
       "    }\n",
       "\n",
       "    .dataframe thead th {\n",
       "        text-align: right;\n",
       "    }\n",
       "</style>\n",
       "<table border=\"1\" class=\"dataframe\">\n",
       "  <thead>\n",
       "    <tr style=\"text-align: right;\">\n",
       "      <th></th>\n",
       "      <th>World</th>\n",
       "      <th>1st diff</th>\n",
       "      <th>2nd diff</th>\n",
       "      <th>3rd diff</th>\n",
       "      <th>4th diff</th>\n",
       "      <th>forecast</th>\n",
       "    </tr>\n",
       "  </thead>\n",
       "  <tbody>\n",
       "    <tr>\n",
       "      <th>2022-01-01</th>\n",
       "      <td>14951</td>\n",
       "      <td>304.0</td>\n",
       "      <td>-377.0</td>\n",
       "      <td>-1615.0</td>\n",
       "      <td>-3580.0</td>\n",
       "      <td>14932.907413</td>\n",
       "    </tr>\n",
       "    <tr>\n",
       "      <th>2023-01-01</th>\n",
       "      <td>NaN</td>\n",
       "      <td>NaN</td>\n",
       "      <td>NaN</td>\n",
       "      <td>NaN</td>\n",
       "      <td>NaN</td>\n",
       "      <td>14107.665079</td>\n",
       "    </tr>\n",
       "    <tr>\n",
       "      <th>2024-01-01</th>\n",
       "      <td>NaN</td>\n",
       "      <td>NaN</td>\n",
       "      <td>NaN</td>\n",
       "      <td>NaN</td>\n",
       "      <td>NaN</td>\n",
       "      <td>15219.423279</td>\n",
       "    </tr>\n",
       "    <tr>\n",
       "      <th>2025-01-01</th>\n",
       "      <td>NaN</td>\n",
       "      <td>NaN</td>\n",
       "      <td>NaN</td>\n",
       "      <td>NaN</td>\n",
       "      <td>NaN</td>\n",
       "      <td>15242.883929</td>\n",
       "    </tr>\n",
       "    <tr>\n",
       "      <th>2026-01-01</th>\n",
       "      <td>NaN</td>\n",
       "      <td>NaN</td>\n",
       "      <td>NaN</td>\n",
       "      <td>NaN</td>\n",
       "      <td>NaN</td>\n",
       "      <td>14351.132370</td>\n",
       "    </tr>\n",
       "    <tr>\n",
       "      <th>2027-01-01</th>\n",
       "      <td>NaN</td>\n",
       "      <td>NaN</td>\n",
       "      <td>NaN</td>\n",
       "      <td>NaN</td>\n",
       "      <td>NaN</td>\n",
       "      <td>15134.759862</td>\n",
       "    </tr>\n",
       "    <tr>\n",
       "      <th>2028-01-01</th>\n",
       "      <td>NaN</td>\n",
       "      <td>NaN</td>\n",
       "      <td>NaN</td>\n",
       "      <td>NaN</td>\n",
       "      <td>NaN</td>\n",
       "      <td>14752.019986</td>\n",
       "    </tr>\n",
       "    <tr>\n",
       "      <th>2029-01-01</th>\n",
       "      <td>NaN</td>\n",
       "      <td>NaN</td>\n",
       "      <td>NaN</td>\n",
       "      <td>NaN</td>\n",
       "      <td>NaN</td>\n",
       "      <td>14853.789388</td>\n",
       "    </tr>\n",
       "    <tr>\n",
       "      <th>2030-01-01</th>\n",
       "      <td>NaN</td>\n",
       "      <td>NaN</td>\n",
       "      <td>NaN</td>\n",
       "      <td>NaN</td>\n",
       "      <td>NaN</td>\n",
       "      <td>15449.760778</td>\n",
       "    </tr>\n",
       "    <tr>\n",
       "      <th>2031-01-01</th>\n",
       "      <td>NaN</td>\n",
       "      <td>NaN</td>\n",
       "      <td>NaN</td>\n",
       "      <td>NaN</td>\n",
       "      <td>NaN</td>\n",
       "      <td>14202.203924</td>\n",
       "    </tr>\n",
       "  </tbody>\n",
       "</table>\n",
       "</div>"
      ],
      "text/plain": [
       "            World  1st diff  2nd diff  3rd diff  4th diff      forecast\n",
       "2022-01-01  14951     304.0    -377.0   -1615.0   -3580.0  14932.907413\n",
       "2023-01-01    NaN       NaN       NaN       NaN       NaN  14107.665079\n",
       "2024-01-01    NaN       NaN       NaN       NaN       NaN  15219.423279\n",
       "2025-01-01    NaN       NaN       NaN       NaN       NaN  15242.883929\n",
       "2026-01-01    NaN       NaN       NaN       NaN       NaN  14351.132370\n",
       "2027-01-01    NaN       NaN       NaN       NaN       NaN  15134.759862\n",
       "2028-01-01    NaN       NaN       NaN       NaN       NaN  14752.019986\n",
       "2029-01-01    NaN       NaN       NaN       NaN       NaN  14853.789388\n",
       "2030-01-01    NaN       NaN       NaN       NaN       NaN  15449.760778\n",
       "2031-01-01    NaN       NaN       NaN       NaN       NaN  14202.203924"
      ]
     },
     "execution_count": 47,
     "metadata": {},
     "output_type": "execute_result"
    }
   ],
   "source": [
    "# Future prediction for next 9 years\n",
    "future_df.tail(10)"
   ]
  },
  {
   "cell_type": "code",
   "execution_count": null,
   "id": "af5121ab",
   "metadata": {},
   "outputs": [],
   "source": []
  }
 ],
 "metadata": {
  "kernelspec": {
   "display_name": "Python 3 (ipykernel)",
   "language": "python",
   "name": "python3"
  },
  "language_info": {
   "codemirror_mode": {
    "name": "ipython",
    "version": 3
   },
   "file_extension": ".py",
   "mimetype": "text/x-python",
   "name": "python",
   "nbconvert_exporter": "python",
   "pygments_lexer": "ipython3",
   "version": "3.10.11"
  }
 },
 "nbformat": 4,
 "nbformat_minor": 5
}

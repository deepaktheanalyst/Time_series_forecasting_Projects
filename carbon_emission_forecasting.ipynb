{
 "cells": [
  {
   "cell_type": "markdown",
   "id": "671418f9",
   "metadata": {},
   "source": [
    "# Importing libraries"
   ]
  },
  {
   "cell_type": "code",
   "execution_count": 1,
   "id": "c11c7422",
   "metadata": {},
   "outputs": [],
   "source": [
    "import numpy as np\n",
    "import pandas as pd\n",
    "import os,sys\n",
    "import matplotlib.pyplot as plt\n",
    "import seaborn as sns\n",
    "%matplotlib inline\n",
    "sns.set\n",
    "import warnings\n",
    "warnings.filterwarnings('ignore')\n",
    "from datetime import datetime"
   ]
  },
  {
   "cell_type": "markdown",
   "id": "8d6d10c0",
   "metadata": {},
   "source": [
    "## Reading dataset"
   ]
  },
  {
   "cell_type": "code",
   "execution_count": 3,
   "id": "a17aa762",
   "metadata": {},
   "outputs": [
    {
     "data": {
      "text/html": [
       "<div>\n",
       "<style scoped>\n",
       "    .dataframe tbody tr th:only-of-type {\n",
       "        vertical-align: middle;\n",
       "    }\n",
       "\n",
       "    .dataframe tbody tr th {\n",
       "        vertical-align: top;\n",
       "    }\n",
       "\n",
       "    .dataframe thead th {\n",
       "        text-align: right;\n",
       "    }\n",
       "</style>\n",
       "<table border=\"1\" class=\"dataframe\">\n",
       "  <thead>\n",
       "    <tr style=\"text-align: right;\">\n",
       "      <th></th>\n",
       "      <th>Unnamed: 0</th>\n",
       "      <th>Coal Data</th>\n",
       "      <th>Unnamed: 2</th>\n",
       "      <th>Natural Gas</th>\n",
       "      <th>Unnamed: 4</th>\n",
       "      <th>Electricity</th>\n",
       "      <th>Unnamed: 6</th>\n",
       "      <th>Co2 Emissions</th>\n",
       "      <th>Unnamed: 8</th>\n",
       "    </tr>\n",
       "  </thead>\n",
       "  <tbody>\n",
       "    <tr>\n",
       "      <th>0</th>\n",
       "      <td>year</td>\n",
       "      <td>world_cons</td>\n",
       "      <td>world_prod</td>\n",
       "      <td>world_prod</td>\n",
       "      <td>world_cons</td>\n",
       "      <td>world_prod</td>\n",
       "      <td>world_cons</td>\n",
       "      <td>world</td>\n",
       "      <td>NaN</td>\n",
       "    </tr>\n",
       "    <tr>\n",
       "      <th>1</th>\n",
       "      <td>1990</td>\n",
       "      <td>4693</td>\n",
       "      <td>4698</td>\n",
       "      <td>2057</td>\n",
       "      <td>2047</td>\n",
       "      <td>11875</td>\n",
       "      <td>10120</td>\n",
       "      <td>20376</td>\n",
       "      <td>NaN</td>\n",
       "    </tr>\n",
       "    <tr>\n",
       "      <th>2</th>\n",
       "      <td>1991</td>\n",
       "      <td>4614</td>\n",
       "      <td>4526</td>\n",
       "      <td>2099</td>\n",
       "      <td>2107</td>\n",
       "      <td>12152</td>\n",
       "      <td>10436</td>\n",
       "      <td>20532</td>\n",
       "      <td>NaN</td>\n",
       "    </tr>\n",
       "    <tr>\n",
       "      <th>3</th>\n",
       "      <td>1992</td>\n",
       "      <td>4558</td>\n",
       "      <td>4478</td>\n",
       "      <td>2099</td>\n",
       "      <td>2101</td>\n",
       "      <td>12262</td>\n",
       "      <td>10525</td>\n",
       "      <td>20450</td>\n",
       "      <td>NaN</td>\n",
       "    </tr>\n",
       "    <tr>\n",
       "      <th>4</th>\n",
       "      <td>1993</td>\n",
       "      <td>4538</td>\n",
       "      <td>4361</td>\n",
       "      <td>2147</td>\n",
       "      <td>2136</td>\n",
       "      <td>12550</td>\n",
       "      <td>10724</td>\n",
       "      <td>20552</td>\n",
       "      <td>NaN</td>\n",
       "    </tr>\n",
       "  </tbody>\n",
       "</table>\n",
       "</div>"
      ],
      "text/plain": [
       "  Unnamed: 0   Coal Data  Unnamed: 2 Natural Gas  Unnamed: 4 Electricity  \\\n",
       "0       year  world_cons  world_prod  world_prod  world_cons  world_prod   \n",
       "1       1990        4693        4698        2057        2047       11875   \n",
       "2       1991        4614        4526        2099        2107       12152   \n",
       "3       1992        4558        4478        2099        2101       12262   \n",
       "4       1993        4538        4361        2147        2136       12550   \n",
       "\n",
       "   Unnamed: 6 Co2 Emissions  Unnamed: 8  \n",
       "0  world_cons         world         NaN  \n",
       "1       10120         20376         NaN  \n",
       "2       10436         20532         NaN  \n",
       "3       10525         20450         NaN  \n",
       "4       10724         20552         NaN  "
      ]
     },
     "execution_count": 3,
     "metadata": {},
     "output_type": "execute_result"
    }
   ],
   "source": [
    "df = pd.read_csv(r\"C:\\Users\\deepa\\Downloads\\world_energy_data.csv\")\n",
    "df.head()"
   ]
  },
  {
   "cell_type": "code",
   "execution_count": 5,
   "id": "9238c72c",
   "metadata": {},
   "outputs": [],
   "source": [
    "# Taking out the emission data\n",
    "emission_df = df[['Unnamed: 0','Co2 Emissions']]"
   ]
  },
  {
   "cell_type": "code",
   "execution_count": 8,
   "id": "a131a25b",
   "metadata": {},
   "outputs": [],
   "source": [
    "# Dropping reduntant rows\n",
    "emission_df.drop([0,0],axis=0,inplace=True)"
   ]
  },
  {
   "cell_type": "code",
   "execution_count": 11,
   "id": "013a4d68",
   "metadata": {},
   "outputs": [],
   "source": [
    "# changing column names\n",
    "emission_df.columns = ['year','emission']"
   ]
  },
  {
   "cell_type": "code",
   "execution_count": 13,
   "id": "9c130ed2",
   "metadata": {},
   "outputs": [
    {
     "data": {
      "text/html": [
       "<div>\n",
       "<style scoped>\n",
       "    .dataframe tbody tr th:only-of-type {\n",
       "        vertical-align: middle;\n",
       "    }\n",
       "\n",
       "    .dataframe tbody tr th {\n",
       "        vertical-align: top;\n",
       "    }\n",
       "\n",
       "    .dataframe thead th {\n",
       "        text-align: right;\n",
       "    }\n",
       "</style>\n",
       "<table border=\"1\" class=\"dataframe\">\n",
       "  <thead>\n",
       "    <tr style=\"text-align: right;\">\n",
       "      <th></th>\n",
       "      <th>year</th>\n",
       "      <th>emission</th>\n",
       "    </tr>\n",
       "  </thead>\n",
       "  <tbody>\n",
       "    <tr>\n",
       "      <th>1</th>\n",
       "      <td>1990</td>\n",
       "      <td>20376</td>\n",
       "    </tr>\n",
       "    <tr>\n",
       "      <th>2</th>\n",
       "      <td>1991</td>\n",
       "      <td>20532</td>\n",
       "    </tr>\n",
       "    <tr>\n",
       "      <th>3</th>\n",
       "      <td>1992</td>\n",
       "      <td>20450</td>\n",
       "    </tr>\n",
       "    <tr>\n",
       "      <th>4</th>\n",
       "      <td>1993</td>\n",
       "      <td>20552</td>\n",
       "    </tr>\n",
       "    <tr>\n",
       "      <th>5</th>\n",
       "      <td>1994</td>\n",
       "      <td>20632</td>\n",
       "    </tr>\n",
       "  </tbody>\n",
       "</table>\n",
       "</div>"
      ],
      "text/plain": [
       "   year emission\n",
       "1  1990    20376\n",
       "2  1991    20532\n",
       "3  1992    20450\n",
       "4  1993    20552\n",
       "5  1994    20632"
      ]
     },
     "execution_count": 13,
     "metadata": {},
     "output_type": "execute_result"
    }
   ],
   "source": [
    "emission_df.head()"
   ]
  },
  {
   "cell_type": "code",
   "execution_count": 14,
   "id": "fa1aaa81",
   "metadata": {},
   "outputs": [],
   "source": [
    "# chnging type of year column into datetime\n",
    "emission_df['year'] = pd.to_datetime(emission_df['year'])"
   ]
  },
  {
   "cell_type": "code",
   "execution_count": 17,
   "id": "e5119d0c",
   "metadata": {},
   "outputs": [
    {
     "name": "stdout",
     "output_type": "stream",
     "text": [
      "<class 'pandas.core.frame.DataFrame'>\n",
      "Int64Index: 33 entries, 1 to 33\n",
      "Data columns (total 2 columns):\n",
      " #   Column    Non-Null Count  Dtype         \n",
      "---  ------    --------------  -----         \n",
      " 0   year      33 non-null     datetime64[ns]\n",
      " 1   emission  33 non-null     object        \n",
      "dtypes: datetime64[ns](1), object(1)\n",
      "memory usage: 792.0+ bytes\n"
     ]
    }
   ],
   "source": [
    "emission_df.info()"
   ]
  },
  {
   "cell_type": "code",
   "execution_count": 18,
   "id": "a8e52e21",
   "metadata": {},
   "outputs": [],
   "source": [
    "# changing data type into integer\n",
    "emission_df['emission'] = emission_df.emission.astype(int)"
   ]
  },
  {
   "cell_type": "code",
   "execution_count": 19,
   "id": "b8096ee8",
   "metadata": {},
   "outputs": [
    {
     "name": "stdout",
     "output_type": "stream",
     "text": [
      "<class 'pandas.core.frame.DataFrame'>\n",
      "Int64Index: 33 entries, 1 to 33\n",
      "Data columns (total 2 columns):\n",
      " #   Column    Non-Null Count  Dtype         \n",
      "---  ------    --------------  -----         \n",
      " 0   year      33 non-null     datetime64[ns]\n",
      " 1   emission  33 non-null     int32         \n",
      "dtypes: datetime64[ns](1), int32(1)\n",
      "memory usage: 660.0 bytes\n"
     ]
    }
   ],
   "source": [
    "emission_df.info()"
   ]
  },
  {
   "cell_type": "code",
   "execution_count": 22,
   "id": "264cf067",
   "metadata": {},
   "outputs": [
    {
     "data": {
      "text/html": [
       "<div>\n",
       "<style scoped>\n",
       "    .dataframe tbody tr th:only-of-type {\n",
       "        vertical-align: middle;\n",
       "    }\n",
       "\n",
       "    .dataframe tbody tr th {\n",
       "        vertical-align: top;\n",
       "    }\n",
       "\n",
       "    .dataframe thead th {\n",
       "        text-align: right;\n",
       "    }\n",
       "</style>\n",
       "<table border=\"1\" class=\"dataframe\">\n",
       "  <thead>\n",
       "    <tr style=\"text-align: right;\">\n",
       "      <th></th>\n",
       "      <th>emission</th>\n",
       "    </tr>\n",
       "  </thead>\n",
       "  <tbody>\n",
       "    <tr>\n",
       "      <th>count</th>\n",
       "      <td>33.000000</td>\n",
       "    </tr>\n",
       "    <tr>\n",
       "      <th>mean</th>\n",
       "      <td>26818.151515</td>\n",
       "    </tr>\n",
       "    <tr>\n",
       "      <th>std</th>\n",
       "      <td>4767.207949</td>\n",
       "    </tr>\n",
       "    <tr>\n",
       "      <th>min</th>\n",
       "      <td>20376.000000</td>\n",
       "    </tr>\n",
       "    <tr>\n",
       "      <th>25%</th>\n",
       "      <td>22067.000000</td>\n",
       "    </tr>\n",
       "    <tr>\n",
       "      <th>50%</th>\n",
       "      <td>27483.000000</td>\n",
       "    </tr>\n",
       "    <tr>\n",
       "      <th>75%</th>\n",
       "      <td>31682.000000</td>\n",
       "    </tr>\n",
       "    <tr>\n",
       "      <th>max</th>\n",
       "      <td>33811.000000</td>\n",
       "    </tr>\n",
       "  </tbody>\n",
       "</table>\n",
       "</div>"
      ],
      "text/plain": [
       "           emission\n",
       "count     33.000000\n",
       "mean   26818.151515\n",
       "std     4767.207949\n",
       "min    20376.000000\n",
       "25%    22067.000000\n",
       "50%    27483.000000\n",
       "75%    31682.000000\n",
       "max    33811.000000"
      ]
     },
     "execution_count": 22,
     "metadata": {},
     "output_type": "execute_result"
    }
   ],
   "source": [
    "emission_df.describe()"
   ]
  },
  {
   "cell_type": "code",
   "execution_count": 54,
   "id": "0a52ae46",
   "metadata": {},
   "outputs": [
    {
     "data": {
      "text/plain": [
       "[<matplotlib.lines.Line2D at 0x1f20c297730>]"
      ]
     },
     "execution_count": 54,
     "metadata": {},
     "output_type": "execute_result"
    },
    {
     "data": {
      "image/png": "[encoded data removed]",
      "text/plain": [
       "<Figure size 2000x1000 with 1 Axes>"
      ]
     },
     "metadata": {},
     "output_type": "display_data"
    }
   ],
   "source": [
    "# plotting given data \n",
    "plt.figure(figsize=(20,10))\n",
    "plt.plot('year','emission',data=emission_df)"
   ]
  },
  {
   "cell_type": "code",
   "execution_count": 20,
   "id": "87127467",
   "metadata": {},
   "outputs": [],
   "source": [
    "import statsmodels.api as sm"
   ]
  },
  {
   "cell_type": "code",
   "execution_count": 21,
   "id": "1fe5064b",
   "metadata": {},
   "outputs": [
    {
     "data": {
      "text/plain": [
       "-0.013415542018681663"
      ]
     },
     "execution_count": 21,
     "metadata": {},
     "output_type": "execute_result"
    }
   ],
   "source": [
    "# Performing durbin watson test to check the autocorrelation\n",
    "sm.stats.durbin_watson(emission_df['emission'])"
   ]
  },
  {
   "cell_type": "markdown",
   "id": "da3c01b5",
   "metadata": {},
   "source": [
    "## Import Facebook Prophet Model"
   ]
  },
  {
   "cell_type": "code",
   "execution_count": null,
   "id": "c5624a3a",
   "metadata": {},
   "outputs": [],
   "source": [
    "#!pip install pystan"
   ]
  },
  {
   "cell_type": "code",
   "execution_count": null,
   "id": "9e1256ba",
   "metadata": {},
   "outputs": [],
   "source": [
    "#pip install prophet"
   ]
  },
  {
   "cell_type": "code",
   "execution_count": 23,
   "id": "41840c03",
   "metadata": {},
   "outputs": [],
   "source": [
    "import prophet"
   ]
  },
  {
   "cell_type": "code",
   "execution_count": 24,
   "id": "21d05ba2",
   "metadata": {},
   "outputs": [],
   "source": [
    "#Renaming columns of dataset to use them into facebook prophet model\n",
    "df_prophet = emission_df.rename(columns={'year':'ds', 'emission':'y'})"
   ]
  },
  {
   "cell_type": "code",
   "execution_count": 26,
   "id": "6f171f96",
   "metadata": {},
   "outputs": [
    {
     "data": {
      "text/html": [
       "<div>\n",
       "<style scoped>\n",
       "    .dataframe tbody tr th:only-of-type {\n",
       "        vertical-align: middle;\n",
       "    }\n",
       "\n",
       "    .dataframe tbody tr th {\n",
       "        vertical-align: top;\n",
       "    }\n",
       "\n",
       "    .dataframe thead th {\n",
       "        text-align: right;\n",
       "    }\n",
       "</style>\n",
       "<table border=\"1\" class=\"dataframe\">\n",
       "  <thead>\n",
       "    <tr style=\"text-align: right;\">\n",
       "      <th></th>\n",
       "      <th>ds</th>\n",
       "      <th>y</th>\n",
       "    </tr>\n",
       "  </thead>\n",
       "  <tbody>\n",
       "    <tr>\n",
       "      <th>1</th>\n",
       "      <td>1990-01-01</td>\n",
       "      <td>20376</td>\n",
       "    </tr>\n",
       "    <tr>\n",
       "      <th>2</th>\n",
       "      <td>1991-01-01</td>\n",
       "      <td>20532</td>\n",
       "    </tr>\n",
       "    <tr>\n",
       "      <th>3</th>\n",
       "      <td>1992-01-01</td>\n",
       "      <td>20450</td>\n",
       "    </tr>\n",
       "    <tr>\n",
       "      <th>4</th>\n",
       "      <td>1993-01-01</td>\n",
       "      <td>20552</td>\n",
       "    </tr>\n",
       "    <tr>\n",
       "      <th>5</th>\n",
       "      <td>1994-01-01</td>\n",
       "      <td>20632</td>\n",
       "    </tr>\n",
       "  </tbody>\n",
       "</table>\n",
       "</div>"
      ],
      "text/plain": [
       "          ds      y\n",
       "1 1990-01-01  20376\n",
       "2 1991-01-01  20532\n",
       "3 1992-01-01  20450\n",
       "4 1993-01-01  20552\n",
       "5 1994-01-01  20632"
      ]
     },
     "execution_count": 26,
     "metadata": {},
     "output_type": "execute_result"
    }
   ],
   "source": [
    "df_prophet.head()"
   ]
  },
  {
   "cell_type": "code",
   "execution_count": 27,
   "id": "6ffcc37e",
   "metadata": {},
   "outputs": [
    {
     "name": "stderr",
     "output_type": "stream",
     "text": [
      "21:31:07 - cmdstanpy - INFO - Chain [1] start processing\n",
      "21:31:08 - cmdstanpy - INFO - Chain [1] done processing\n"
     ]
    }
   ],
   "source": [
    "from prophet import Prophet\n",
    "m = Prophet()\n",
    "model = m.fit(df_prophet)"
   ]
  },
  {
   "cell_type": "code",
   "execution_count": 28,
   "id": "e5e49c6d",
   "metadata": {},
   "outputs": [
    {
     "data": {
      "text/plain": [
       "OrderedDict([('yearly',\n",
       "              {'period': 365.25,\n",
       "               'fourier_order': 10,\n",
       "               'prior_scale': 10.0,\n",
       "               'mode': 'additive',\n",
       "               'condition_name': None})])"
      ]
     },
     "execution_count": 28,
     "metadata": {},
     "output_type": "execute_result"
    }
   ],
   "source": [
    "model.seasonalities"
   ]
  },
  {
   "cell_type": "code",
   "execution_count": 29,
   "id": "07982684",
   "metadata": {},
   "outputs": [
    {
     "data": {
      "text/plain": [
       "<prophet.forecaster.Prophet at 0x1f20631dc60>"
      ]
     },
     "execution_count": 29,
     "metadata": {},
     "output_type": "execute_result"
    }
   ],
   "source": [
    "model"
   ]
  },
  {
   "cell_type": "code",
   "execution_count": 30,
   "id": "420c6683",
   "metadata": {},
   "outputs": [],
   "source": [
    "future_pred = model.make_future_dataframe(periods=10, freq='Y')"
   ]
  },
  {
   "cell_type": "code",
   "execution_count": 32,
   "id": "7f11afe9",
   "metadata": {},
   "outputs": [
    {
     "data": {
      "text/html": [
       "<div>\n",
       "<style scoped>\n",
       "    .dataframe tbody tr th:only-of-type {\n",
       "        vertical-align: middle;\n",
       "    }\n",
       "\n",
       "    .dataframe tbody tr th {\n",
       "        vertical-align: top;\n",
       "    }\n",
       "\n",
       "    .dataframe thead th {\n",
       "        text-align: right;\n",
       "    }\n",
       "</style>\n",
       "<table border=\"1\" class=\"dataframe\">\n",
       "  <thead>\n",
       "    <tr style=\"text-align: right;\">\n",
       "      <th></th>\n",
       "      <th>ds</th>\n",
       "    </tr>\n",
       "  </thead>\n",
       "  <tbody>\n",
       "    <tr>\n",
       "      <th>33</th>\n",
       "      <td>2022-12-31</td>\n",
       "    </tr>\n",
       "    <tr>\n",
       "      <th>34</th>\n",
       "      <td>2023-12-31</td>\n",
       "    </tr>\n",
       "    <tr>\n",
       "      <th>35</th>\n",
       "      <td>2024-12-31</td>\n",
       "    </tr>\n",
       "    <tr>\n",
       "      <th>36</th>\n",
       "      <td>2025-12-31</td>\n",
       "    </tr>\n",
       "    <tr>\n",
       "      <th>37</th>\n",
       "      <td>2026-12-31</td>\n",
       "    </tr>\n",
       "    <tr>\n",
       "      <th>38</th>\n",
       "      <td>2027-12-31</td>\n",
       "    </tr>\n",
       "    <tr>\n",
       "      <th>39</th>\n",
       "      <td>2028-12-31</td>\n",
       "    </tr>\n",
       "    <tr>\n",
       "      <th>40</th>\n",
       "      <td>2029-12-31</td>\n",
       "    </tr>\n",
       "    <tr>\n",
       "      <th>41</th>\n",
       "      <td>2030-12-31</td>\n",
       "    </tr>\n",
       "    <tr>\n",
       "      <th>42</th>\n",
       "      <td>2031-12-31</td>\n",
       "    </tr>\n",
       "  </tbody>\n",
       "</table>\n",
       "</div>"
      ],
      "text/plain": [
       "           ds\n",
       "33 2022-12-31\n",
       "34 2023-12-31\n",
       "35 2024-12-31\n",
       "36 2025-12-31\n",
       "37 2026-12-31\n",
       "38 2027-12-31\n",
       "39 2028-12-31\n",
       "40 2029-12-31\n",
       "41 2030-12-31\n",
       "42 2031-12-31"
      ]
     },
     "execution_count": 32,
     "metadata": {},
     "output_type": "execute_result"
    }
   ],
   "source": [
    "future_pred.tail(10)"
   ]
  },
  {
   "cell_type": "markdown",
   "id": "7b62d590",
   "metadata": {},
   "source": [
    "## Predicting future forecasting"
   ]
  },
  {
   "cell_type": "code",
   "execution_count": 33,
   "id": "30f554cb",
   "metadata": {},
   "outputs": [],
   "source": [
    "prediction = model.predict(future_pred)"
   ]
  },
  {
   "cell_type": "code",
   "execution_count": 34,
   "id": "47f9f3c7",
   "metadata": {},
   "outputs": [
    {
     "data": {
      "text/html": [
       "<div>\n",
       "<style scoped>\n",
       "    .dataframe tbody tr th:only-of-type {\n",
       "        vertical-align: middle;\n",
       "    }\n",
       "\n",
       "    .dataframe tbody tr th {\n",
       "        vertical-align: top;\n",
       "    }\n",
       "\n",
       "    .dataframe thead th {\n",
       "        text-align: right;\n",
       "    }\n",
       "</style>\n",
       "<table border=\"1\" class=\"dataframe\">\n",
       "  <thead>\n",
       "    <tr style=\"text-align: right;\">\n",
       "      <th></th>\n",
       "      <th>ds</th>\n",
       "      <th>trend</th>\n",
       "      <th>yhat_lower</th>\n",
       "      <th>yhat_upper</th>\n",
       "      <th>trend_lower</th>\n",
       "      <th>trend_upper</th>\n",
       "      <th>additive_terms</th>\n",
       "      <th>additive_terms_lower</th>\n",
       "      <th>additive_terms_upper</th>\n",
       "      <th>yearly</th>\n",
       "      <th>yearly_lower</th>\n",
       "      <th>yearly_upper</th>\n",
       "      <th>multiplicative_terms</th>\n",
       "      <th>multiplicative_terms_lower</th>\n",
       "      <th>multiplicative_terms_upper</th>\n",
       "      <th>yhat</th>\n",
       "    </tr>\n",
       "  </thead>\n",
       "  <tbody>\n",
       "    <tr>\n",
       "      <th>0</th>\n",
       "      <td>1990-01-01</td>\n",
       "      <td>-10242.907206</td>\n",
       "      <td>19504.193258</td>\n",
       "      <td>20544.690520</td>\n",
       "      <td>-10242.907206</td>\n",
       "      <td>-10242.907206</td>\n",
       "      <td>30276.291217</td>\n",
       "      <td>30276.291217</td>\n",
       "      <td>30276.291217</td>\n",
       "      <td>30276.291217</td>\n",
       "      <td>30276.291217</td>\n",
       "      <td>30276.291217</td>\n",
       "      <td>0.0</td>\n",
       "      <td>0.0</td>\n",
       "      <td>0.0</td>\n",
       "      <td>20033.384011</td>\n",
       "    </tr>\n",
       "    <tr>\n",
       "      <th>1</th>\n",
       "      <td>1991-01-01</td>\n",
       "      <td>-9971.021595</td>\n",
       "      <td>19700.980618</td>\n",
       "      <td>20785.410881</td>\n",
       "      <td>-9971.021595</td>\n",
       "      <td>-9971.021595</td>\n",
       "      <td>30228.018959</td>\n",
       "      <td>30228.018959</td>\n",
       "      <td>30228.018959</td>\n",
       "      <td>30228.018959</td>\n",
       "      <td>30228.018959</td>\n",
       "      <td>30228.018959</td>\n",
       "      <td>0.0</td>\n",
       "      <td>0.0</td>\n",
       "      <td>0.0</td>\n",
       "      <td>20256.997364</td>\n",
       "    </tr>\n",
       "  </tbody>\n",
       "</table>\n",
       "</div>"
      ],
      "text/plain": [
       "          ds         trend    yhat_lower    yhat_upper   trend_lower  \\\n",
       "0 1990-01-01 -10242.907206  19504.193258  20544.690520 -10242.907206   \n",
       "1 1991-01-01  -9971.021595  19700.980618  20785.410881  -9971.021595   \n",
       "\n",
       "    trend_upper  additive_terms  additive_terms_lower  additive_terms_upper  \\\n",
       "0 -10242.907206    30276.291217          30276.291217          30276.291217   \n",
       "1  -9971.021595    30228.018959          30228.018959          30228.018959   \n",
       "\n",
       "         yearly  yearly_lower  yearly_upper  multiplicative_terms  \\\n",
       "0  30276.291217  30276.291217  30276.291217                   0.0   \n",
       "1  30228.018959  30228.018959  30228.018959                   0.0   \n",
       "\n",
       "   multiplicative_terms_lower  multiplicative_terms_upper          yhat  \n",
       "0                         0.0                         0.0  20033.384011  \n",
       "1                         0.0                         0.0  20256.997364  "
      ]
     },
     "execution_count": 34,
     "metadata": {},
     "output_type": "execute_result"
    }
   ],
   "source": [
    "prediction.head(2)"
   ]
  },
  {
   "cell_type": "code",
   "execution_count": 35,
   "id": "b8904d39",
   "metadata": {},
   "outputs": [
    {
     "data": {
      "text/html": [
       "<div>\n",
       "<style scoped>\n",
       "    .dataframe tbody tr th:only-of-type {\n",
       "        vertical-align: middle;\n",
       "    }\n",
       "\n",
       "    .dataframe tbody tr th {\n",
       "        vertical-align: top;\n",
       "    }\n",
       "\n",
       "    .dataframe thead th {\n",
       "        text-align: right;\n",
       "    }\n",
       "</style>\n",
       "<table border=\"1\" class=\"dataframe\">\n",
       "  <thead>\n",
       "    <tr style=\"text-align: right;\">\n",
       "      <th></th>\n",
       "      <th>ds</th>\n",
       "      <th>yhat</th>\n",
       "      <th>yhat_lower</th>\n",
       "      <th>yhat_upper</th>\n",
       "    </tr>\n",
       "  </thead>\n",
       "  <tbody>\n",
       "    <tr>\n",
       "      <th>33</th>\n",
       "      <td>2022-12-31</td>\n",
       "      <td>30844.568213</td>\n",
       "      <td>30319.407123</td>\n",
       "      <td>31369.167623</td>\n",
       "    </tr>\n",
       "    <tr>\n",
       "      <th>34</th>\n",
       "      <td>2023-12-31</td>\n",
       "      <td>29791.837376</td>\n",
       "      <td>29286.428825</td>\n",
       "      <td>30404.457406</td>\n",
       "    </tr>\n",
       "    <tr>\n",
       "      <th>35</th>\n",
       "      <td>2024-12-31</td>\n",
       "      <td>33048.700711</td>\n",
       "      <td>32438.137571</td>\n",
       "      <td>33654.297526</td>\n",
       "    </tr>\n",
       "    <tr>\n",
       "      <th>36</th>\n",
       "      <td>2025-12-31</td>\n",
       "      <td>32475.894154</td>\n",
       "      <td>31860.778618</td>\n",
       "      <td>33079.560933</td>\n",
       "    </tr>\n",
       "    <tr>\n",
       "      <th>37</th>\n",
       "      <td>2026-12-31</td>\n",
       "      <td>31662.253817</td>\n",
       "      <td>31003.010986</td>\n",
       "      <td>32314.278448</td>\n",
       "    </tr>\n",
       "    <tr>\n",
       "      <th>38</th>\n",
       "      <td>2027-12-31</td>\n",
       "      <td>30609.522981</td>\n",
       "      <td>29877.438861</td>\n",
       "      <td>31324.723576</td>\n",
       "    </tr>\n",
       "    <tr>\n",
       "      <th>39</th>\n",
       "      <td>2028-12-31</td>\n",
       "      <td>33866.386316</td>\n",
       "      <td>33100.602179</td>\n",
       "      <td>34631.705156</td>\n",
       "    </tr>\n",
       "    <tr>\n",
       "      <th>40</th>\n",
       "      <td>2029-12-31</td>\n",
       "      <td>33293.579759</td>\n",
       "      <td>32382.984147</td>\n",
       "      <td>34176.622829</td>\n",
       "    </tr>\n",
       "    <tr>\n",
       "      <th>41</th>\n",
       "      <td>2030-12-31</td>\n",
       "      <td>32479.939422</td>\n",
       "      <td>31472.708294</td>\n",
       "      <td>33507.367917</td>\n",
       "    </tr>\n",
       "    <tr>\n",
       "      <th>42</th>\n",
       "      <td>2031-12-31</td>\n",
       "      <td>31427.208586</td>\n",
       "      <td>30349.673045</td>\n",
       "      <td>32593.732304</td>\n",
       "    </tr>\n",
       "  </tbody>\n",
       "</table>\n",
       "</div>"
      ],
      "text/plain": [
       "           ds          yhat    yhat_lower    yhat_upper\n",
       "33 2022-12-31  30844.568213  30319.407123  31369.167623\n",
       "34 2023-12-31  29791.837376  29286.428825  30404.457406\n",
       "35 2024-12-31  33048.700711  32438.137571  33654.297526\n",
       "36 2025-12-31  32475.894154  31860.778618  33079.560933\n",
       "37 2026-12-31  31662.253817  31003.010986  32314.278448\n",
       "38 2027-12-31  30609.522981  29877.438861  31324.723576\n",
       "39 2028-12-31  33866.386316  33100.602179  34631.705156\n",
       "40 2029-12-31  33293.579759  32382.984147  34176.622829\n",
       "41 2030-12-31  32479.939422  31472.708294  33507.367917\n",
       "42 2031-12-31  31427.208586  30349.673045  32593.732304"
      ]
     },
     "execution_count": 35,
     "metadata": {},
     "output_type": "execute_result"
    }
   ],
   "source": [
    "prediction[['ds','yhat','yhat_lower','yhat_upper']].tail(10)"
   ]
  },
  {
   "cell_type": "code",
   "execution_count": 36,
   "id": "5a7ad395",
   "metadata": {},
   "outputs": [
    {
     "data": {
      "image/png": "[encoded data removed]",
      "text/plain": [
       "<Figure size 1000x600 with 1 Axes>"
      ]
     },
     "metadata": {},
     "output_type": "display_data"
    }
   ],
   "source": [
    "# plot the model \n",
    "model.plot(prediction)\n",
    "plt.show()"
   ]
  },
  {
   "cell_type": "code",
   "execution_count": 37,
   "id": "d25aea1d",
   "metadata": {},
   "outputs": [
    {
     "data": {
      "image/png": "[encoded data removed]",
      "text/plain": [
       "<Figure size 900x600 with 2 Axes>"
      ]
     },
     "metadata": {},
     "output_type": "display_data"
    }
   ],
   "source": [
    "model.plot_components(prediction)\n",
    "plt.show()"
   ]
  },
  {
   "cell_type": "markdown",
   "id": "967d849b",
   "metadata": {},
   "source": [
    "## To check the performance - cross validation and performance metrics"
   ]
  },
  {
   "cell_type": "code",
   "execution_count": 38,
   "id": "b8d71628",
   "metadata": {},
   "outputs": [],
   "source": [
    "from prophet.diagnostics import cross_validation"
   ]
  },
  {
   "cell_type": "code",
   "execution_count": 42,
   "id": "345da06a",
   "metadata": {},
   "outputs": [
    {
     "data": {
      "application/vnd.jupyter.widget-view+json": {
       "model_id": "139bdafa93634d5c8f0c5dcfd96580af",
       "version_major": 2,
       "version_minor": 0
      },
      "text/plain": [
       "  0%|          | 0/29 [00:00<?, ?it/s]"
      ]
     },
     "metadata": {},
     "output_type": "display_data"
    },
    {
     "name": "stderr",
     "output_type": "stream",
     "text": [
      "21:40:21 - cmdstanpy - INFO - Chain [1] start processing\n",
      "21:40:22 - cmdstanpy - INFO - Chain [1] done processing\n",
      "21:40:22 - cmdstanpy - INFO - Chain [1] start processing\n",
      "21:40:36 - cmdstanpy - INFO - Chain [1] done processing\n",
      "21:40:36 - cmdstanpy - INFO - Chain [1] start processing\n",
      "21:40:36 - cmdstanpy - INFO - Chain [1] done processing\n",
      "21:40:37 - cmdstanpy - INFO - Chain [1] start processing\n",
      "21:40:54 - cmdstanpy - INFO - Chain [1] done processing\n",
      "21:40:54 - cmdstanpy - INFO - Chain [1] start processing\n",
      "21:41:11 - cmdstanpy - INFO - Chain [1] done processing\n",
      "21:41:11 - cmdstanpy - INFO - Chain [1] start processing\n",
      "21:41:29 - cmdstanpy - INFO - Chain [1] done processing\n",
      "21:41:30 - cmdstanpy - INFO - Chain [1] start processing\n",
      "21:41:49 - cmdstanpy - INFO - Chain [1] done processing\n",
      "21:41:50 - cmdstanpy - INFO - Chain [1] start processing\n",
      "21:41:50 - cmdstanpy - INFO - Chain [1] done processing\n",
      "21:41:50 - cmdstanpy - INFO - Chain [1] start processing\n",
      "21:41:50 - cmdstanpy - INFO - Chain [1] done processing\n",
      "21:41:51 - cmdstanpy - INFO - Chain [1] start processing\n",
      "21:42:36 - cmdstanpy - INFO - Chain [1] done processing\n",
      "21:42:36 - cmdstanpy - INFO - Chain [1] start processing\n",
      "21:42:36 - cmdstanpy - INFO - Chain [1] done processing\n",
      "21:42:36 - cmdstanpy - INFO - Chain [1] start processing\n",
      "21:42:37 - cmdstanpy - INFO - Chain [1] done processing\n",
      "21:42:37 - cmdstanpy - INFO - Chain [1] start processing\n",
      "21:42:38 - cmdstanpy - INFO - Chain [1] done processing\n",
      "21:42:38 - cmdstanpy - INFO - Chain [1] start processing\n",
      "21:42:38 - cmdstanpy - INFO - Chain [1] done processing\n",
      "21:42:38 - cmdstanpy - INFO - Chain [1] start processing\n",
      "21:42:39 - cmdstanpy - INFO - Chain [1] done processing\n",
      "21:42:39 - cmdstanpy - INFO - Chain [1] start processing\n",
      "21:42:40 - cmdstanpy - INFO - Chain [1] done processing\n",
      "21:42:40 - cmdstanpy - INFO - Chain [1] start processing\n",
      "21:42:40 - cmdstanpy - INFO - Chain [1] done processing\n",
      "21:42:40 - cmdstanpy - INFO - Chain [1] start processing\n",
      "21:42:41 - cmdstanpy - INFO - Chain [1] done processing\n",
      "21:42:41 - cmdstanpy - INFO - Chain [1] start processing\n",
      "21:42:41 - cmdstanpy - INFO - Chain [1] done processing\n",
      "21:42:42 - cmdstanpy - INFO - Chain [1] start processing\n",
      "21:42:42 - cmdstanpy - INFO - Chain [1] done processing\n",
      "21:42:42 - cmdstanpy - INFO - Chain [1] start processing\n",
      "21:42:43 - cmdstanpy - INFO - Chain [1] done processing\n",
      "21:42:43 - cmdstanpy - INFO - Chain [1] start processing\n",
      "21:42:44 - cmdstanpy - INFO - Chain [1] done processing\n",
      "21:42:44 - cmdstanpy - INFO - Chain [1] start processing\n",
      "21:42:45 - cmdstanpy - INFO - Chain [1] done processing\n",
      "21:42:45 - cmdstanpy - INFO - Chain [1] start processing\n",
      "21:42:46 - cmdstanpy - INFO - Chain [1] done processing\n",
      "21:42:46 - cmdstanpy - INFO - Chain [1] start processing\n",
      "21:42:46 - cmdstanpy - INFO - Chain [1] done processing\n",
      "21:42:47 - cmdstanpy - INFO - Chain [1] start processing\n",
      "21:42:47 - cmdstanpy - INFO - Chain [1] done processing\n",
      "21:42:48 - cmdstanpy - INFO - Chain [1] start processing\n",
      "21:42:48 - cmdstanpy - INFO - Chain [1] done processing\n",
      "21:42:49 - cmdstanpy - INFO - Chain [1] start processing\n",
      "21:42:49 - cmdstanpy - INFO - Chain [1] done processing\n",
      "21:42:50 - cmdstanpy - INFO - Chain [1] start processing\n",
      "21:42:50 - cmdstanpy - INFO - Chain [1] done processing\n"
     ]
    }
   ],
   "source": [
    "df_cv = cross_validation(model, horizon='365 days', period='365 days', initial='1095 days')"
   ]
  },
  {
   "cell_type": "code",
   "execution_count": 43,
   "id": "578a96e5",
   "metadata": {},
   "outputs": [
    {
     "data": {
      "text/html": [
       "<div>\n",
       "<style scoped>\n",
       "    .dataframe tbody tr th:only-of-type {\n",
       "        vertical-align: middle;\n",
       "    }\n",
       "\n",
       "    .dataframe tbody tr th {\n",
       "        vertical-align: top;\n",
       "    }\n",
       "\n",
       "    .dataframe thead th {\n",
       "        text-align: right;\n",
       "    }\n",
       "</style>\n",
       "<table border=\"1\" class=\"dataframe\">\n",
       "  <thead>\n",
       "    <tr style=\"text-align: right;\">\n",
       "      <th></th>\n",
       "      <th>ds</th>\n",
       "      <th>yhat</th>\n",
       "      <th>yhat_lower</th>\n",
       "      <th>yhat_upper</th>\n",
       "      <th>y</th>\n",
       "      <th>cutoff</th>\n",
       "    </tr>\n",
       "  </thead>\n",
       "  <tbody>\n",
       "    <tr>\n",
       "      <th>0</th>\n",
       "      <td>1994-01-01</td>\n",
       "      <td>20950.197399</td>\n",
       "      <td>20949.539007</td>\n",
       "      <td>20950.898919</td>\n",
       "      <td>20632</td>\n",
       "      <td>1993-01-08</td>\n",
       "    </tr>\n",
       "    <tr>\n",
       "      <th>1</th>\n",
       "      <td>1995-01-01</td>\n",
       "      <td>20706.550092</td>\n",
       "      <td>20625.474337</td>\n",
       "      <td>20790.946297</td>\n",
       "      <td>21090</td>\n",
       "      <td>1994-01-08</td>\n",
       "    </tr>\n",
       "    <tr>\n",
       "      <th>2</th>\n",
       "      <td>1996-01-01</td>\n",
       "      <td>21248.343827</td>\n",
       "      <td>21141.027253</td>\n",
       "      <td>21356.702376</td>\n",
       "      <td>21543</td>\n",
       "      <td>1995-01-08</td>\n",
       "    </tr>\n",
       "    <tr>\n",
       "      <th>3</th>\n",
       "      <td>1997-01-01</td>\n",
       "      <td>22052.774589</td>\n",
       "      <td>21931.800275</td>\n",
       "      <td>22169.289271</td>\n",
       "      <td>21910</td>\n",
       "      <td>1996-01-08</td>\n",
       "    </tr>\n",
       "    <tr>\n",
       "      <th>4</th>\n",
       "      <td>1998-01-01</td>\n",
       "      <td>22484.436391</td>\n",
       "      <td>22352.793707</td>\n",
       "      <td>22638.714455</td>\n",
       "      <td>22067</td>\n",
       "      <td>1997-01-07</td>\n",
       "    </tr>\n",
       "  </tbody>\n",
       "</table>\n",
       "</div>"
      ],
      "text/plain": [
       "          ds          yhat    yhat_lower    yhat_upper      y     cutoff\n",
       "0 1994-01-01  20950.197399  20949.539007  20950.898919  20632 1993-01-08\n",
       "1 1995-01-01  20706.550092  20625.474337  20790.946297  21090 1994-01-08\n",
       "2 1996-01-01  21248.343827  21141.027253  21356.702376  21543 1995-01-08\n",
       "3 1997-01-01  22052.774589  21931.800275  22169.289271  21910 1996-01-08\n",
       "4 1998-01-01  22484.436391  22352.793707  22638.714455  22067 1997-01-07"
      ]
     },
     "execution_count": 43,
     "metadata": {},
     "output_type": "execute_result"
    }
   ],
   "source": [
    "df_cv.head()"
   ]
  },
  {
   "cell_type": "code",
   "execution_count": 44,
   "id": "1df44529",
   "metadata": {},
   "outputs": [],
   "source": [
    "from prophet.diagnostics import performance_metrics"
   ]
  },
  {
   "cell_type": "code",
   "execution_count": 45,
   "id": "12577303",
   "metadata": {},
   "outputs": [],
   "source": [
    "df_performance = performance_metrics(df_cv)"
   ]
  },
  {
   "cell_type": "code",
   "execution_count": 46,
   "id": "d8e07867",
   "metadata": {},
   "outputs": [
    {
     "data": {
      "text/html": [
       "<div>\n",
       "<style scoped>\n",
       "    .dataframe tbody tr th:only-of-type {\n",
       "        vertical-align: middle;\n",
       "    }\n",
       "\n",
       "    .dataframe tbody tr th {\n",
       "        vertical-align: top;\n",
       "    }\n",
       "\n",
       "    .dataframe thead th {\n",
       "        text-align: right;\n",
       "    }\n",
       "</style>\n",
       "<table border=\"1\" class=\"dataframe\">\n",
       "  <thead>\n",
       "    <tr style=\"text-align: right;\">\n",
       "      <th></th>\n",
       "      <th>horizon</th>\n",
       "      <th>mse</th>\n",
       "      <th>rmse</th>\n",
       "      <th>mae</th>\n",
       "      <th>mape</th>\n",
       "      <th>mdape</th>\n",
       "      <th>smape</th>\n",
       "      <th>coverage</th>\n",
       "    </tr>\n",
       "  </thead>\n",
       "  <tbody>\n",
       "    <tr>\n",
       "      <th>0</th>\n",
       "      <td>358 days</td>\n",
       "      <td>1.117019e+05</td>\n",
       "      <td>334.218330</td>\n",
       "      <td>332.101160</td>\n",
       "      <td>0.015761</td>\n",
       "      <td>0.015423</td>\n",
       "      <td>0.015808</td>\n",
       "      <td>0.00</td>\n",
       "    </tr>\n",
       "    <tr>\n",
       "      <th>1</th>\n",
       "      <td>359 days</td>\n",
       "      <td>1.214916e+05</td>\n",
       "      <td>348.556409</td>\n",
       "      <td>307.864514</td>\n",
       "      <td>0.013752</td>\n",
       "      <td>0.012924</td>\n",
       "      <td>0.013762</td>\n",
       "      <td>0.00</td>\n",
       "    </tr>\n",
       "    <tr>\n",
       "      <th>2</th>\n",
       "      <td>360 days</td>\n",
       "      <td>2.091832e+05</td>\n",
       "      <td>457.365503</td>\n",
       "      <td>389.676284</td>\n",
       "      <td>0.015706</td>\n",
       "      <td>0.016872</td>\n",
       "      <td>0.015874</td>\n",
       "      <td>0.25</td>\n",
       "    </tr>\n",
       "    <tr>\n",
       "      <th>3</th>\n",
       "      <td>361 days</td>\n",
       "      <td>2.706274e+05</td>\n",
       "      <td>520.218577</td>\n",
       "      <td>391.386234</td>\n",
       "      <td>0.013923</td>\n",
       "      <td>0.008747</td>\n",
       "      <td>0.013797</td>\n",
       "      <td>0.25</td>\n",
       "    </tr>\n",
       "    <tr>\n",
       "      <th>4</th>\n",
       "      <td>362 days</td>\n",
       "      <td>7.182744e+05</td>\n",
       "      <td>847.510684</td>\n",
       "      <td>503.374830</td>\n",
       "      <td>0.017558</td>\n",
       "      <td>0.004528</td>\n",
       "      <td>0.017125</td>\n",
       "      <td>0.75</td>\n",
       "    </tr>\n",
       "    <tr>\n",
       "      <th>5</th>\n",
       "      <td>363 days</td>\n",
       "      <td>1.271997e+06</td>\n",
       "      <td>1127.828585</td>\n",
       "      <td>956.440486</td>\n",
       "      <td>0.030158</td>\n",
       "      <td>0.033257</td>\n",
       "      <td>0.029539</td>\n",
       "      <td>0.25</td>\n",
       "    </tr>\n",
       "    <tr>\n",
       "      <th>6</th>\n",
       "      <td>364 days</td>\n",
       "      <td>1.014649e+06</td>\n",
       "      <td>1007.297772</td>\n",
       "      <td>704.584706</td>\n",
       "      <td>0.022370</td>\n",
       "      <td>0.014287</td>\n",
       "      <td>0.021864</td>\n",
       "      <td>0.50</td>\n",
       "    </tr>\n",
       "    <tr>\n",
       "      <th>7</th>\n",
       "      <td>365 days</td>\n",
       "      <td>5.075368e+05</td>\n",
       "      <td>712.416147</td>\n",
       "      <td>701.548288</td>\n",
       "      <td>0.020966</td>\n",
       "      <td>0.020966</td>\n",
       "      <td>0.021195</td>\n",
       "      <td>0.00</td>\n",
       "    </tr>\n",
       "  </tbody>\n",
       "</table>\n",
       "</div>"
      ],
      "text/plain": [
       "   horizon           mse         rmse         mae      mape     mdape  \\\n",
       "0 358 days  1.117019e+05   334.218330  332.101160  0.015761  0.015423   \n",
       "1 359 days  1.214916e+05   348.556409  307.864514  0.013752  0.012924   \n",
       "2 360 days  2.091832e+05   457.365503  389.676284  0.015706  0.016872   \n",
       "3 361 days  2.706274e+05   520.218577  391.386234  0.013923  0.008747   \n",
       "4 362 days  7.182744e+05   847.510684  503.374830  0.017558  0.004528   \n",
       "5 363 days  1.271997e+06  1127.828585  956.440486  0.030158  0.033257   \n",
       "6 364 days  1.014649e+06  1007.297772  704.584706  0.022370  0.014287   \n",
       "7 365 days  5.075368e+05   712.416147  701.548288  0.020966  0.020966   \n",
       "\n",
       "      smape  coverage  \n",
       "0  0.015808      0.00  \n",
       "1  0.013762      0.00  \n",
       "2  0.015874      0.25  \n",
       "3  0.013797      0.25  \n",
       "4  0.017125      0.75  \n",
       "5  0.029539      0.25  \n",
       "6  0.021864      0.50  \n",
       "7  0.021195      0.00  "
      ]
     },
     "execution_count": 46,
     "metadata": {},
     "output_type": "execute_result"
    }
   ],
   "source": [
    "df_performance"
   ]
  },
  {
   "cell_type": "code",
   "execution_count": 47,
   "id": "6f0cec09",
   "metadata": {},
   "outputs": [
    {
     "data": {
      "image/png": "[encoded data removed]",
      "text/plain": [
       "<Figure size 1000x600 with 1 Axes>"
      ]
     },
     "metadata": {},
     "output_type": "display_data"
    }
   ],
   "source": [
    "# Visualise\n",
    "from prophet.plot import plot_cross_validation_metric\n",
    "df_performance = plot_cross_validation_metric(df_cv, metric='mape')"
   ]
  },
  {
   "cell_type": "code",
   "execution_count": 56,
   "id": "9179c2ea",
   "metadata": {},
   "outputs": [],
   "source": [
    "prediction.to_csv('emission_prediction_data.csv')"
   ]
  },
  {
   "cell_type": "code",
   "execution_count": null,
   "id": "015d353e",
   "metadata": {},
   "outputs": [],
   "source": []
  }
 ],
 "metadata": {
  "kernelspec": {
   "display_name": "Python 3 (ipykernel)",
   "language": "python",
   "name": "python3"
  },
  "language_info": {
   "codemirror_mode": {
    "name": "ipython",
    "version": 3
   },
   "file_extension": ".py",
   "mimetype": "text/x-python",
   "name": "python",
   "nbconvert_exporter": "python",
   "pygments_lexer": "ipython3",
   "version": "3.10.11"
  }
 },
 "nbformat": 4,
 "nbformat_minor": 5
}
